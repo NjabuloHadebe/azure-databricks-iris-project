{
 "cells": [
  {
   "cell_type": "code",
   "execution_count": 0,
   "metadata": {
    "application/vnd.databricks.v1+cell": {
     "cellMetadata": {
      "byteLimit": 2048000,
      "rowLimit": 10000
     },
     "inputWidgets": {},
     "nuid": "0159052d-cc0b-4b6d-95fb-f23e25910a39",
     "showTitle": false,
     "tableResultSettingsMap": {},
     "title": ""
    }
   },
   "outputs": [
    {
     "name": "stdout",
     "output_type": "stream",
     "text": [
      "+-----------+----------+-----------+----------+-----------+\n",
      "|SepalLength|SepalWidth|PetalLength|PetalWidth|    Species|\n",
      "+-----------+----------+-----------+----------+-----------+\n",
      "|        5.1|       3.5|        1.4|       0.2|Iris-setosa|\n",
      "|        4.9|       3.0|        1.4|       0.2|Iris-setosa|\n",
      "|        4.7|       3.2|        1.3|       0.2|Iris-setosa|\n",
      "|        4.6|       3.1|        1.5|       0.2|Iris-setosa|\n",
      "|        5.0|       3.6|        1.4|       0.2|Iris-setosa|\n",
      "|        5.4|       3.9|        1.7|       0.4|Iris-setosa|\n",
      "|        4.6|       3.4|        1.4|       0.3|Iris-setosa|\n",
      "|        5.0|       3.4|        1.5|       0.2|Iris-setosa|\n",
      "|        4.4|       2.9|        1.4|       0.2|Iris-setosa|\n",
      "|        4.9|       3.1|        1.5|       0.1|Iris-setosa|\n",
      "|        5.4|       3.7|        1.5|       0.2|Iris-setosa|\n",
      "|        4.8|       3.4|        1.6|       0.2|Iris-setosa|\n",
      "|        4.8|       3.0|        1.4|       0.1|Iris-setosa|\n",
      "|        4.3|       3.0|        1.1|       0.1|Iris-setosa|\n",
      "|        5.8|       4.0|        1.2|       0.2|Iris-setosa|\n",
      "|        5.7|       4.4|        1.5|       0.4|Iris-setosa|\n",
      "|        5.4|       3.9|        1.3|       0.4|Iris-setosa|\n",
      "|        5.1|       3.5|        1.4|       0.3|Iris-setosa|\n",
      "|        5.7|       3.8|        1.7|       0.3|Iris-setosa|\n",
      "|        5.1|       3.8|        1.5|       0.3|Iris-setosa|\n",
      "+-----------+----------+-----------+----------+-----------+\n",
      "only showing top 20 rows\n",
      "\n"
     ]
    }
   ],
   "source": [
    "jdbc_url = \"jdbc:sqlserver://dataserverformachine.database.windows.net:1433;database=dataformachinelearning;\"\n",
    "\n",
    "# Connection properties including username and password\n",
    "connection_properties = {\n",
    "    \"user\": \"*******\",           # SQL Server username\n",
    "    \"password\": \"******\",    # SQL Server password\n",
    "    \"driver\": \"com.microsoft.sqlserver.jdbc.SQLServerDriver\"  # SQL Server JDBC driver\n",
    "}\n",
    "\n",
    "# Read data from the SQL table into a DataFrame\n",
    "df = spark.read.jdbc(url=jdbc_url, table=\"dbo.iris_table\", properties=connection_properties)\n",
    "\n",
    "# Show the first few rows of the data\n",
    "df.show()\n"
   ]
  },
  {
   "cell_type": "code",
   "execution_count": 0,
   "metadata": {
    "application/vnd.databricks.v1+cell": {
     "cellMetadata": {
      "byteLimit": 2048000,
      "rowLimit": 10000
     },
     "inputWidgets": {},
     "nuid": "204b1251-79f7-415f-ab35-4543cf857019",
     "showTitle": false,
     "tableResultSettingsMap": {},
     "title": ""
    }
   },
   "outputs": [
    {
     "data": {
      "application/vnd.jupyter.widget-view+json": {
       "model_id": "dc56ed9cdb8d455bbc2add562ab44e40",
       "version_major": 2,
       "version_minor": 0
      },
      "text/plain": [
       "Downloading artifacts:   0%|          | 0/30 [00:00<?, ?it/s]"
      ]
     },
     "metadata": {},
     "output_type": "display_data"
    },
    {
     "data": {
      "application/vnd.jupyter.widget-view+json": {
       "model_id": "73114b29a77747a9955069cb85d43b7d",
       "version_major": 2,
       "version_minor": 0
      },
      "text/plain": [
       "Uploading artifacts:   0%|          | 0/4 [00:00<?, ?it/s]"
      ]
     },
     "metadata": {},
     "output_type": "display_data"
    },
    {
     "name": "stdout",
     "output_type": "stream",
     "text": [
      "+---------------+--------------+----------+\n",
      "|        Species|indexedSpecies|prediction|\n",
      "+---------------+--------------+----------+\n",
      "|    Iris-setosa|           2.0|       2.0|\n",
      "|    Iris-setosa|           2.0|       2.0|\n",
      "|    Iris-setosa|           2.0|       2.0|\n",
      "|    Iris-setosa|           2.0|       2.0|\n",
      "|    Iris-setosa|           2.0|       2.0|\n",
      "|Iris-versicolor|           0.0|       0.0|\n",
      "|    Iris-setosa|           2.0|       2.0|\n",
      "|    Iris-setosa|           2.0|       2.0|\n",
      "|    Iris-setosa|           2.0|       2.0|\n",
      "|    Iris-setosa|           2.0|       2.0|\n",
      "|    Iris-setosa|           2.0|       2.0|\n",
      "|    Iris-setosa|           2.0|       2.0|\n",
      "|    Iris-setosa|           2.0|       2.0|\n",
      "|    Iris-setosa|           2.0|       2.0|\n",
      "|Iris-versicolor|           0.0|       0.0|\n",
      "| Iris-virginica|           1.0|       1.0|\n",
      "| Iris-virginica|           1.0|       1.0|\n",
      "|Iris-versicolor|           0.0|       0.0|\n",
      "|Iris-versicolor|           0.0|       1.0|\n",
      "|Iris-versicolor|           0.0|       0.0|\n",
      "+---------------+--------------+----------+\n",
      "only showing top 20 rows\n",
      "\n"
     ]
    }
   ],
   "source": [
    "from pyspark.ml.classification import LogisticRegression\n",
    "from pyspark.ml.feature import VectorAssembler, StringIndexer\n",
    "from pyspark.ml import Pipeline\n",
    "\n",
    "# Index the 'Species' column to convert it into numeric values\n",
    "indexer = StringIndexer(inputCol=\"Species\", outputCol=\"indexedSpecies\")\n",
    "\n",
    "# Prepare the data (assemble features into a single vector)\n",
    "feature_columns = ['SepalLength', 'SepalWidth', 'PetalLength', 'PetalWidth']\n",
    "assembler = VectorAssembler(inputCols=feature_columns, outputCol=\"features\")\n",
    "\n",
    "# Split the data into training and test sets\n",
    "train_data, test_data = df.randomSplit([0.8, 0.2], seed=123)\n",
    "\n",
    "# Initialize the Logistic Regression model\n",
    "lr = LogisticRegression(featuresCol=\"features\", labelCol=\"indexedSpecies\")\n",
    "\n",
    "# Build the pipeline\n",
    "pipeline = Pipeline(stages=[indexer, assembler, lr])\n",
    "\n",
    "# Train the model\n",
    "model = pipeline.fit(train_data)\n",
    "\n",
    "# Make predictions on the test data\n",
    "predictions = model.transform(test_data)\n",
    "\n",
    "# Show some predictions\n",
    "predictions.select(\"Species\", \"indexedSpecies\", \"prediction\").show()\n"
   ]
  },
  {
   "cell_type": "code",
   "execution_count": 0,
   "metadata": {
    "application/vnd.databricks.v1+cell": {
     "cellMetadata": {
      "byteLimit": 2048000,
      "rowLimit": 10000
     },
     "inputWidgets": {},
     "nuid": "1d239ed2-483e-4291-8896-1380a88df4c9",
     "showTitle": false,
     "tableResultSettingsMap": {},
     "title": ""
    }
   },
   "outputs": [
    {
     "data": {
      "image/png": "[encoded data removed]",
      "text/plain": [
       "<Figure size 1000x600 with 1 Axes>"
      ]
     },
     "metadata": {},
     "output_type": "display_data"
    }
   ],
   "source": [
    "import matplotlib.pyplot as plt\n",
    "import pandas as pd\n",
    "\n",
    "# Convert predictions to Pandas DataFrame for easy plotting\n",
    "pred_df = predictions.select(\"Species\", \"prediction\").toPandas()\n",
    "\n",
    "# Plot the results\n",
    "plt.figure(figsize=(10,6))\n",
    "plt.scatter(pred_df['Species'], pred_df['prediction'])\n",
    "plt.title('Species vs Predicted Class')\n",
    "plt.xlabel('True Species')\n",
    "plt.ylabel('Predicted Class')\n",
    "plt.show()\n"
   ]
  },
  {
   "cell_type": "code",
   "execution_count": 0,
   "metadata": {
    "application/vnd.databricks.v1+cell": {
     "cellMetadata": {
      "byteLimit": 2048000,
      "rowLimit": 10000
     },
     "inputWidgets": {},
     "nuid": "687d7927-bee3-4cdb-a9f0-973f1e744b28",
     "showTitle": false,
     "tableResultSettingsMap": {},
     "title": ""
    }
   },
   "outputs": [
    {
     "name": "stdout",
     "output_type": "stream",
     "text": [
      "Model Accuracy: 0.9655172413793104\n"
     ]
    }
   ],
   "source": [
    "from pyspark.ml.evaluation import MulticlassClassificationEvaluator\n",
    "\n",
    "# Initialize evaluator\n",
    "evaluator = MulticlassClassificationEvaluator(labelCol=\"indexedSpecies\", predictionCol=\"prediction\", metricName=\"accuracy\")\n",
    "\n",
    "# Evaluate the accuracy of the model\n",
    "accuracy = evaluator.evaluate(predictions)\n",
    "\n",
    "print(f\"Model Accuracy: {accuracy}\")\n"
   ]
  },
  {
   "cell_type": "code",
   "execution_count": 0,
   "metadata": {
    "application/vnd.databricks.v1+cell": {
     "cellMetadata": {
      "byteLimit": 2048000,
      "rowLimit": 10000
     },
     "inputWidgets": {},
     "nuid": "94e0f41d-f21d-4cfd-9161-df9e9871596d",
     "showTitle": false,
     "tableResultSettingsMap": {},
     "title": ""
    }
   },
   "outputs": [
    {
     "data": {
      "application/vnd.jupyter.widget-view+json": {
       "model_id": "2d0909b474fc455b9996cacd34ab7ac1",
       "version_major": 2,
       "version_minor": 0
      },
      "text/plain": [
       "Downloading artifacts:   0%|          | 0/65 [00:00<?, ?it/s]"
      ]
     },
     "metadata": {},
     "output_type": "display_data"
    },
    {
     "data": {
      "application/vnd.jupyter.widget-view+json": {
       "model_id": "96e0ca869dbe4676a5a358a5e82ce40d",
       "version_major": 2,
       "version_minor": 0
      },
      "text/plain": [
       "Uploading artifacts:   0%|          | 0/4 [00:00<?, ?it/s]"
      ]
     },
     "metadata": {},
     "output_type": "display_data"
    },
    {
     "data": {
      "application/vnd.jupyter.widget-view+json": {
       "model_id": "985219dd5d3d431294ce5787e64152f8",
       "version_major": 2,
       "version_minor": 0
      },
      "text/plain": [
       "Downloading artifacts:   0%|          | 0/30 [00:00<?, ?it/s]"
      ]
     },
     "metadata": {},
     "output_type": "display_data"
    },
    {
     "data": {
      "application/vnd.jupyter.widget-view+json": {
       "model_id": "4564ea34e97b4c739b9a42378e18f645",
       "version_major": 2,
       "version_minor": 0
      },
      "text/plain": [
       "Uploading artifacts:   0%|          | 0/4 [00:00<?, ?it/s]"
      ]
     },
     "metadata": {},
     "output_type": "display_data"
    },
    {
     "name": "stdout",
     "output_type": "stream",
     "text": [
      "Cross-Validated Model Accuracy: 0.9655172413793104\n"
     ]
    }
   ],
   "source": [
    "from pyspark.ml.tuning import CrossValidator, ParamGridBuilder\n",
    "from pyspark.ml.evaluation import MulticlassClassificationEvaluator\n",
    "\n",
    "# Set up the parameter grid for tuning\n",
    "paramGrid = (ParamGridBuilder()\n",
    "             .addGrid(lr.regParam, [0.1, 0.01])\n",
    "             .addGrid(lr.elasticNetParam, [0.0, 0.5])\n",
    "             .build())\n",
    "\n",
    "# CrossValidator setup\n",
    "crossval = CrossValidator(estimator=pipeline, \n",
    "                          estimatorParamMaps=paramGrid, \n",
    "                          evaluator=evaluator, \n",
    "                          numFolds=3)  # Use 3 folds for cross-validation\n",
    "\n",
    "# Train the model using cross-validation\n",
    "cvModel = crossval.fit(train_data)\n",
    "\n",
    "# Make predictions\n",
    "cvPredictions = cvModel.transform(test_data)\n",
    "\n",
    "# Evaluate the tuned model\n",
    "cvAccuracy = evaluator.evaluate(cvPredictions)\n",
    "print(f\"Cross-Validated Model Accuracy: {cvAccuracy}\")\n"
   ]
  },
  {
   "cell_type": "code",
   "execution_count": 0,
   "metadata": {
    "application/vnd.databricks.v1+cell": {
     "cellMetadata": {
      "byteLimit": 2048000,
      "rowLimit": 10000
     },
     "inputWidgets": {},
     "nuid": "185a9fda-8422-4d82-8b6e-ccae35af83fd",
     "showTitle": false,
     "tableResultSettingsMap": {},
     "title": ""
    }
   },
   "outputs": [
    {
     "data": {
      "image/png": "[encoded data removed]",
      "text/plain": [
       "<Figure size 600x600 with 2 Axes>"
      ]
     },
     "metadata": {},
     "output_type": "display_data"
    }
   ],
   "source": [
    "import seaborn as sns\n",
    "import matplotlib.pyplot as plt\n",
    "from sklearn.metrics import confusion_matrix\n",
    "\n",
    "# Convert the predictions to a Pandas DataFrame for easier plotting\n",
    "pred_df = cvPredictions.select(\"indexedSpecies\", \"prediction\").toPandas()\n",
    "\n",
    "# Compute the confusion matrix\n",
    "cm = confusion_matrix(pred_df['indexedSpecies'], pred_df['prediction'])\n",
    "\n",
    "# Plot the confusion matrix using seaborn\n",
    "plt.figure(figsize=(6,6))\n",
    "sns.heatmap(cm, annot=True, fmt=\"d\", cmap=\"Blues\", xticklabels=[\"Setosa\", \"Versicolor\", \"Virginica\"], yticklabels=[\"Setosa\", \"Versicolor\", \"Virginica\"])\n",
    "plt.xlabel('Predicted')\n",
    "plt.ylabel('True')\n",
    "plt.title('Confusion Matrix')\n",
    "plt.show()\n"
   ]
  },
  {
   "cell_type": "code",
   "execution_count": 0,
   "metadata": {
    "application/vnd.databricks.v1+cell": {
     "cellMetadata": {
      "byteLimit": 2048000,
      "rowLimit": 10000
     },
     "inputWidgets": {},
     "nuid": "bf46b2a9-8caa-49e9-afee-b3482433cb26",
     "showTitle": false,
     "tableResultSettingsMap": {},
     "title": ""
    }
   },
   "outputs": [],
   "source": [
    "# Save the trained model\n",
    "cvModel.save(\"/dbfs/mnt/models/iris_classification_model\")\n"
   ]
  }
 ],
 "metadata": {
  "application/vnd.databricks.v1+notebook": {
   "dashboards": [],
   "environmentMetadata": {
    "base_environment": "",
    "client": "1"
   },
   "language": "python",
   "notebookMetadata": {
    "pythonIndentUnit": 4
   },
   "notebookName": "Machine learning project",
   "widgets": {}
  },
  "language_info": {
   "name": "python"
  }
 },
 "nbformat": 4,
 "nbformat_minor": 0
}
